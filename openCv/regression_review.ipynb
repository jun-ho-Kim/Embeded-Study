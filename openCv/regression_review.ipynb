{
 "cells": [
  {
   "cell_type": "code",
   "execution_count": 22,
   "metadata": {},
   "outputs": [
    {
     "name": "stdout",
     "output_type": "stream",
     "text": [
      "실제 데이터= [ 99  86  87  88 111  86 103  87  94  78  77  85  86]\n",
      "수치해 데이터= [94.34952171 90.84694628 89.09565857 90.84694628 99.60338484 73.33406917\n",
      " 99.60338484 87.34437086 96.10080942 83.84179544 82.09050773 87.34437086\n",
      " 92.598234  ]\n",
      "해석해 데이터= [94.46218516 90.91165827 89.13639483 90.91165827 99.78797548 73.15902386\n",
      " 99.78797548 87.36113139 96.2374486  83.81060451 82.03534107 87.36113139\n",
      " 92.68692171]\n",
      "수치해 오차= [ 4.65047829  4.84694628  2.09565857  2.84694628 11.39661516 12.66593083\n",
      "  3.39661516  0.34437086  2.10080942  5.84179544  5.09050773  2.34437086\n",
      "  6.598234  ]\n",
      "해석해 오차= [ 4.53781484  4.91165827  2.13639483  2.91165827 11.21202452 12.84097614\n",
      "  3.21202452  0.36113139  2.2374486   5.81060451  5.03534107  2.36113139\n",
      "  6.68692171]\n",
      "수치해_err_A_min= 0.34437086092715674\n",
      "수치해_err_A_max= 12.66593083149371\n",
      "해석해_err_B_min= 0.36113139080488565\n",
      "해석해_err_B_max= 12.840976139539393\n",
      "해석해_max - 수치해_max= 0.1750453080456822\n"
     ]
    },
    {
     "data": {
      "image/png": "[encoded data removed]",
      "text/plain": [
       "<Figure size 640x480 with 1 Axes>"
      ]
     },
     "metadata": {},
     "output_type": "display_data"
    }
   ],
   "source": [
    "import numpy as np\n",
    "import matplotlib.pyplot as plt\n",
    "\n",
    "x = [5,7,8,7,2,17,2,9,4,11,12,9,6]\n",
    "y = [99,86,87,88,111,86,103,87,94,78,77,85,86]\n",
    "x = np.array(x)\n",
    "y = np.array(y)\n",
    "\n",
    "#Quiz\n",
    "#x,y 데이타 분포를 이용하여 대표 직선을 구하고\n",
    "#데이타 중 최소, 최대 거리(error) 값을 출력하시오.\n",
    "\n",
    "def mse_line(x,t,w):\n",
    "    y = w[0]*x+w[1]\n",
    "    mse = np.mean((y-t)**2)\n",
    "    return mse\n",
    "\n",
    "def dmse_line(x,t,w):\n",
    "    y = w[0]*x+w[1]\n",
    "    d_w0 = 2*np.mean((y-t)*x)\n",
    "    d_w1 = 2*np.mean(y-t)\n",
    "    return d_w0, d_w1\n",
    "\n",
    "def fit_line_num(x,t):\n",
    "    w_init=[10.0,165.0]\n",
    "    alpha = 0.001 #lre\n",
    "    i_max = 100000\n",
    "    eps = 0.1 #반복을 종료 기울기의 절대값의 한계\n",
    "    w_i = np.zeros([i_max,2])\n",
    "    w_i[0,:] = w_init\n",
    "    for i in range(1, i_max):\n",
    "        dmse = dmse_line(x,t,w_i[i-1])\n",
    "        w_i[i,0] = w_i[i-1,0] - alpha*dmse[0]\n",
    "        w_i[i,1] = w_i[i-1,1] - alpha*dmse[1]\n",
    "        if(max(np.absolute(dmse))<eps):\n",
    "            break\n",
    "    w0 = w_i[i,0]\n",
    "    w1 = w_i[i,1]\n",
    "    w_i = w_i[:i,:]\n",
    "    return w0, w1, dmse, w_i\n",
    "\n",
    "def fit_line(x,t):\n",
    "    mx = np.mean(x)\n",
    "    mt = np.mean(t)\n",
    "    mtx = np.mean(t*x)\n",
    "    mxx = np.mean(x*x)\n",
    "    w0 = (mtx-mt*mx)/(mxx-mx**2)\n",
    "    w1 = mt-w0*mx\n",
    "    return np.array([w0,w1])\n",
    "\n",
    "w_A = fit_line(x,y)\n",
    "a = w_A[0]\n",
    "b = w_A[1]\n",
    "y_A = a*x+b\n",
    "err_A = np.abs(y-y_A)\n",
    "err_A_max = np.max(err_A)\n",
    "err_A_min = np.min(err_A)\n",
    "\n",
    "w_B = fit_line_num(x,y)\n",
    "a = w_B[0]\n",
    "b = w_B[1]\n",
    "y_B = a*x+b\n",
    "err_B = np.abs(y-y_B)\n",
    "err_B_max = np.max(err_B)\n",
    "err_B_min = np.min(err_B)\n",
    "print('실제 데이터=',y)\n",
    "print('수치해 데이터=',y_A)\n",
    "print('해석해 데이터=',y_B)\n",
    "print('수치해 오차=',err_A)\n",
    "print('해석해 오차=',err_B)\n",
    "print('수치해_err_A_min=',err_A_min)\n",
    "print('수치해_err_A_max=',err_A_max)\n",
    "print('해석해_err_B_min=',err_B_min)\n",
    "print('해석해_err_B_max=',err_B_max)\n",
    "print('해석해_max - 수치해_max=',err_B_max-err_A_max)\n",
    "\n",
    "plt.scatter(x, y)\n",
    "plt.plot(x, y_A,marker='^', linestyle='-',color='red',markeredgecolor='black')\n",
    "plt.plot(x, y_B,marker='+', linestyle='-',color='green',markeredgecolor='black')\n",
    "#plt.show()\n",
    "\n",
    "plt.savefig('해석해vs수치해.png')"
   ]
  },
  {
   "cell_type": "code",
   "execution_count": 5,
   "metadata": {},
   "outputs": [
    {
     "data": {
      "text/plain": [
       "25.362959222320413"
      ]
     },
     "execution_count": 5,
     "metadata": {},
     "output_type": "execute_result"
    }
   ],
   "source": [
    "82*0.98/1.78/1.78"
   ]
  },
  {
   "cell_type": "code",
   "execution_count": null,
   "metadata": {},
   "outputs": [],
   "source": []
  }
 ],
 "metadata": {
  "kernelspec": {
   "display_name": "aiot",
   "language": "python",
   "name": "python3"
  },
  "language_info": {
   "codemirror_mode": {
    "name": "ipython",
    "version": 3
   },
   "file_extension": ".py",
   "mimetype": "text/x-python",
   "name": "python",
   "nbconvert_exporter": "python",
   "pygments_lexer": "ipython3",
   "version": "3.11.3"
  },
  "orig_nbformat": 4
 },
 "nbformat": 4,
 "nbformat_minor": 2
}
