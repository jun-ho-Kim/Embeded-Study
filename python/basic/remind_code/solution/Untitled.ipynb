{
 "cells": [
  {
   "cell_type": "code",
   "execution_count": 6,
   "id": "9a4260ac",
   "metadata": {},
   "outputs": [
    {
     "data": {
      "image/png": "[encoded data removed]",
      "text/plain": [
       "<Figure size 300x200 with 1 Axes>"
      ]
     },
     "metadata": {},
     "output_type": "display_data"
    }
   ],
   "source": [
    "# %%\n",
    "import numpy as np\n",
    "import matplotlib.pyplot as plt\n",
    "\n",
    "#pip install numpy\n",
    "#pip install matplotlib\n",
    "\n",
    "\n",
    "# %%\n",
    "#data\n",
    "np.random.seed(1)\n",
    "x = np.arange(10)#0,1,2,3,4,9\n",
    "y = np.random.rand(100)# 0,4,2,1,4,2,2\n",
    "rng = np.random.default_rng()\n",
    "y = rng.normal(size=10)\n",
    "#그래프 출력\n",
    "plt.figure(figsize=(3,2))\n",
    "plt.plot(x,y) #plot function ... input (x - axis,y - axis)\n",
    "plt.show()\n",
    "# %%\n"
   ]
  },
  {
   "cell_type": "code",
   "execution_count": 7,
   "id": "19f9109e",
   "metadata": {},
   "outputs": [],
   "source": [
    "a = 100\n",
    "b = 20"
   ]
  },
  {
   "cell_type": "code",
   "execution_count": 5,
   "id": "f46c34ea",
   "metadata": {},
   "outputs": [
    {
     "name": "stdout",
     "output_type": "stream",
     "text": [
      "100 20\n"
     ]
    }
   ],
   "source": [
    "print(a,b)"
   ]
  },
  {
   "cell_type": "code",
   "execution_count": null,
   "id": "3d383082",
   "metadata": {},
   "outputs": [],
   "source": []
  }
 ],
 "metadata": {
  "kernelspec": {
   "display_name": "Python 3 (ipykernel)",
   "language": "python",
   "name": "python3"
  },
  "language_info": {
   "codemirror_mode": {
    "name": "ipython",
    "version": 3
   },
   "file_extension": ".py",
   "mimetype": "text/x-python",
   "name": "python",
   "nbconvert_exporter": "python",
   "pygments_lexer": "ipython3",
   "version": "3.10.9"
  }
 },
 "nbformat": 4,
 "nbformat_minor": 5
}
